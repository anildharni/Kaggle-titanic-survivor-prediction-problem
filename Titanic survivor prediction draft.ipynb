{
 "cells": [
  {
   "cell_type": "markdown",
   "metadata": {},
   "source": [
    "# Titanic Survivor Prediction problem"
   ]
  },
  {
   "cell_type": "markdown",
   "metadata": {},
   "source": [
    "##### Importing required modules."
   ]
  },
  {
   "cell_type": "code",
   "execution_count": 38,
   "metadata": {
    "collapsed": true
   },
   "outputs": [],
   "source": [
    "import pandas as pd\n",
    "import numpy as np\n",
    "import seaborn as sns\n",
    "import matplotlib.pyplot as plt\n",
    "% matplotlib inline\n",
    "sns.set()\n",
    "import warnings\n",
    "warnings.filterwarnings('ignore',category = DeprecationWarning)"
   ]
  },
  {
   "cell_type": "markdown",
   "metadata": {},
   "source": [
    "###### Reading the Dataset and Exploring"
   ]
  },
  {
   "cell_type": "code",
   "execution_count": 40,
   "metadata": {},
   "outputs": [
    {
     "data": {
      "text/html": [
       "<div>\n",
       "<style>\n",
       "    .dataframe thead tr:only-child th {\n",
       "        text-align: right;\n",
       "    }\n",
       "\n",
       "    .dataframe thead th {\n",
       "        text-align: left;\n",
       "    }\n",
       "\n",
       "    .dataframe tbody tr th {\n",
       "        vertical-align: top;\n",
       "    }\n",
       "</style>\n",
       "<table border=\"1\" class=\"dataframe\">\n",
       "  <thead>\n",
       "    <tr style=\"text-align: right;\">\n",
       "      <th></th>\n",
       "      <th>PassengerId</th>\n",
       "      <th>Survived</th>\n",
       "      <th>Pclass</th>\n",
       "      <th>Name</th>\n",
       "      <th>Sex</th>\n",
       "      <th>Age</th>\n",
       "      <th>SibSp</th>\n",
       "      <th>Parch</th>\n",
       "      <th>Ticket</th>\n",
       "      <th>Fare</th>\n",
       "      <th>Cabin</th>\n",
       "      <th>Embarked</th>\n",
       "    </tr>\n",
       "  </thead>\n",
       "  <tbody>\n",
       "    <tr>\n",
       "      <th>0</th>\n",
       "      <td>1</td>\n",
       "      <td>0</td>\n",
       "      <td>3</td>\n",
       "      <td>Braund, Mr. Owen Harris</td>\n",
       "      <td>male</td>\n",
       "      <td>22.0</td>\n",
       "      <td>1</td>\n",
       "      <td>0</td>\n",
       "      <td>A/5 21171</td>\n",
       "      <td>7.2500</td>\n",
       "      <td>NaN</td>\n",
       "      <td>S</td>\n",
       "    </tr>\n",
       "    <tr>\n",
       "      <th>1</th>\n",
       "      <td>2</td>\n",
       "      <td>1</td>\n",
       "      <td>1</td>\n",
       "      <td>Cumings, Mrs. John Bradley (Florence Briggs Th...</td>\n",
       "      <td>female</td>\n",
       "      <td>38.0</td>\n",
       "      <td>1</td>\n",
       "      <td>0</td>\n",
       "      <td>PC 17599</td>\n",
       "      <td>71.2833</td>\n",
       "      <td>C85</td>\n",
       "      <td>C</td>\n",
       "    </tr>\n",
       "    <tr>\n",
       "      <th>2</th>\n",
       "      <td>3</td>\n",
       "      <td>1</td>\n",
       "      <td>3</td>\n",
       "      <td>Heikkinen, Miss. Laina</td>\n",
       "      <td>female</td>\n",
       "      <td>26.0</td>\n",
       "      <td>0</td>\n",
       "      <td>0</td>\n",
       "      <td>STON/O2. 3101282</td>\n",
       "      <td>7.9250</td>\n",
       "      <td>NaN</td>\n",
       "      <td>S</td>\n",
       "    </tr>\n",
       "    <tr>\n",
       "      <th>3</th>\n",
       "      <td>4</td>\n",
       "      <td>1</td>\n",
       "      <td>1</td>\n",
       "      <td>Futrelle, Mrs. Jacques Heath (Lily May Peel)</td>\n",
       "      <td>female</td>\n",
       "      <td>35.0</td>\n",
       "      <td>1</td>\n",
       "      <td>0</td>\n",
       "      <td>113803</td>\n",
       "      <td>53.1000</td>\n",
       "      <td>C123</td>\n",
       "      <td>S</td>\n",
       "    </tr>\n",
       "    <tr>\n",
       "      <th>4</th>\n",
       "      <td>5</td>\n",
       "      <td>0</td>\n",
       "      <td>3</td>\n",
       "      <td>Allen, Mr. William Henry</td>\n",
       "      <td>male</td>\n",
       "      <td>35.0</td>\n",
       "      <td>0</td>\n",
       "      <td>0</td>\n",
       "      <td>373450</td>\n",
       "      <td>8.0500</td>\n",
       "      <td>NaN</td>\n",
       "      <td>S</td>\n",
       "    </tr>\n",
       "  </tbody>\n",
       "</table>\n",
       "</div>"
      ],
      "text/plain": [
       "   PassengerId  Survived  Pclass  \\\n",
       "0            1         0       3   \n",
       "1            2         1       1   \n",
       "2            3         1       3   \n",
       "3            4         1       1   \n",
       "4            5         0       3   \n",
       "\n",
       "                                                Name     Sex   Age  SibSp  \\\n",
       "0                            Braund, Mr. Owen Harris    male  22.0      1   \n",
       "1  Cumings, Mrs. John Bradley (Florence Briggs Th...  female  38.0      1   \n",
       "2                             Heikkinen, Miss. Laina  female  26.0      0   \n",
       "3       Futrelle, Mrs. Jacques Heath (Lily May Peel)  female  35.0      1   \n",
       "4                           Allen, Mr. William Henry    male  35.0      0   \n",
       "\n",
       "   Parch            Ticket     Fare Cabin Embarked  \n",
       "0      0         A/5 21171   7.2500   NaN        S  \n",
       "1      0          PC 17599  71.2833   C85        C  \n",
       "2      0  STON/O2. 3101282   7.9250   NaN        S  \n",
       "3      0            113803  53.1000  C123        S  \n",
       "4      0            373450   8.0500   NaN        S  "
      ]
     },
     "execution_count": 40,
     "metadata": {},
     "output_type": "execute_result"
    }
   ],
   "source": [
    "titanic = pd.read_csv('train.csv')\n",
    "titanic_copy = titanic.copy()\n",
    "\n",
    "titanic.head()"
   ]
  },
  {
   "cell_type": "markdown",
   "metadata": {},
   "source": [
    "- ###### Checking whether embarked place of a person has any effect on his survival rate \n",
    "- ###### This is based on the assumption that the people who embarked ship early are more likely to rest and new comers tend to explore the ship and thus could escape a bit fast"
   ]
  },
  {
   "cell_type": "code",
   "execution_count": 41,
   "metadata": {},
   "outputs": [
    {
     "data": {
      "text/plain": [
       "(1    93\n",
       " 0    75\n",
       " Name: Survived, dtype: int64, 0    427\n",
       " 1    217\n",
       " Name: Survived, dtype: int64, 0    47\n",
       " 1    30\n",
       " Name: Survived, dtype: int64)"
      ]
     },
     "execution_count": 41,
     "metadata": {},
     "output_type": "execute_result"
    }
   ],
   "source": [
    "titanic[titanic.Embarked == 'C'].Survived.value_counts(),titanic[titanic.Embarked == 'S'].Survived.value_counts(),titanic[titanic.Embarked == 'Q'].Survived.value_counts()"
   ]
  },
  {
   "cell_type": "markdown",
   "metadata": {},
   "source": [
    "###### Replacing the embarked with column with respective weights. weights obtained by their survival ratio"
   ]
  },
  {
   "cell_type": "code",
   "execution_count": 42,
   "metadata": {},
   "outputs": [
    {
     "data": {
      "text/plain": [
       "True     687\n",
       "False    204\n",
       "Name: Cabin, dtype: int64"
      ]
     },
     "execution_count": 42,
     "metadata": {},
     "output_type": "execute_result"
    }
   ],
   "source": [
    "titanic.replace(['S','Q','C'],[50,63,77],inplace = True)\n",
    "titanic.Cabin.isnull().value_counts()\n",
    "\n",
    "# So we can comfortably eliminate Cabin values because 687 cabins have no value"
   ]
  },
  {
   "cell_type": "code",
   "execution_count": 43,
   "metadata": {},
   "outputs": [
    {
     "data": {
      "text/plain": [
       "0    374\n",
       "1    163\n",
       "Name: Survived, dtype: int64"
      ]
     },
     "execution_count": 43,
     "metadata": {},
     "output_type": "execute_result"
    }
   ],
   "source": [
    "titanic.loc[:,['SibSp','Parch','Survived']]\n",
    "\n",
    "# Checking the relation between family members onboard and their survival rate\n",
    "# This assuming there is a high chance of a family surviving if single member of their family survives\n",
    "\n",
    "\n",
    "titanic[(titanic['SibSp'] == 0) & (titanic['Parch'] == 0)].Survived.value_counts()\n",
    "\n",
    "# Obtaining value_counts is to get a survival ratio so that we can replace it in place of these two columns."
   ]
  },
  {
   "cell_type": "code",
   "execution_count": 44,
   "metadata": {
    "scrolled": false
   },
   "outputs": [
    {
     "data": {
      "text/plain": [
       "1    179\n",
       "0    175\n",
       "Name: Survived, dtype: int64"
      ]
     },
     "execution_count": 44,
     "metadata": {},
     "output_type": "execute_result"
    }
   ],
   "source": [
    "titanic[(~(titanic['SibSp'] == 0) | ~(titanic['Parch'] == 0))].Survived.value_counts()"
   ]
  },
  {
   "cell_type": "markdown",
   "metadata": {},
   "source": [
    "###### adding a new column capturing the effects of two columns SibSp and Parch"
   ]
  },
  {
   "cell_type": "code",
   "execution_count": 45,
   "metadata": {
    "collapsed": true
   },
   "outputs": [],
   "source": [
    "titanic['Family'] = [1 if (titanic.SibSp[i] == 0 & titanic.Parch[i] == 0) else 2.4 for i in range(len(titanic.PassengerId))]"
   ]
  },
  {
   "cell_type": "markdown",
   "metadata": {},
   "source": [
    "###### Dropping useless columns (Though we can still get information from name considering the complexities involved it is left out)"
   ]
  },
  {
   "cell_type": "code",
   "execution_count": 46,
   "metadata": {
    "collapsed": true
   },
   "outputs": [],
   "source": [
    "titanic.drop(['Name','SibSp','Parch','Ticket','Fare','Cabin'],axis = 1,inplace = True)"
   ]
  },
  {
   "cell_type": "markdown",
   "metadata": {},
   "source": [
    "###### Survival ratio of a female is 4 times that of male so assigning numerical weights replacing 'male' and 'female'\n",
    "###### Class is also modified accordingly"
   ]
  },
  {
   "cell_type": "code",
   "execution_count": 47,
   "metadata": {
    "collapsed": true
   },
   "outputs": [],
   "source": [
    "titanic['Pclass'] = 4 - titanic.Pclass\n",
    "titanic['Sex'] = [1 if titanic.Sex[i] == 'male' else 4 for i in range(len(titanic['PassengerId']))]"
   ]
  },
  {
   "cell_type": "markdown",
   "metadata": {},
   "source": [
    "###### Filling missing age values though it is not generally advisable it is done here to simplify the process"
   ]
  },
  {
   "cell_type": "code",
   "execution_count": 48,
   "metadata": {
    "collapsed": true,
    "scrolled": true
   },
   "outputs": [],
   "source": [
    "titanic.Age.fillna(method = 'bfill',inplace = True)"
   ]
  },
  {
   "cell_type": "markdown",
   "metadata": {},
   "source": [
    "###### Binning so as to it will help in future to assign weights to ages"
   ]
  },
  {
   "cell_type": "code",
   "execution_count": 49,
   "metadata": {
    "collapsed": true
   },
   "outputs": [],
   "source": [
    "titanic['Bins'] = (pd.cut(titanic.Age,8,retbins = True)[0])"
   ]
  },
  {
   "cell_type": "code",
   "execution_count": 50,
   "metadata": {
    "collapsed": true,
    "scrolled": true
   },
   "outputs": [],
   "source": [
    "k = []\n",
    "for i in [4,14,24,34,44,54,64,74]:\n",
    "    k.append(titanic.groupby('Bins').Survived.value_counts()[i][1]/titanic.groupby('Bins').Survived.value_counts()[i][0])\n",
    "\n",
    "# Grouping by bins and then calling survived which has two rows one for '1' and other for '0'.\n",
    "# This is basically to obtain a ratio of survival to bin."
   ]
  },
  {
   "cell_type": "code",
   "execution_count": 51,
   "metadata": {},
   "outputs": [
    {
     "data": {
      "text/plain": [
       "[1.075,\n",
       " 0.6071428571428571,\n",
       " 0.55865921787709494,\n",
       " 0.63709677419354838,\n",
       " 0.59722222222222221,\n",
       " 0.54838709677419351,\n",
       " 0.61538461538461542,\n",
       " 0.16666666666666666]"
      ]
     },
     "execution_count": 51,
     "metadata": {},
     "output_type": "execute_result"
    }
   ],
   "source": [
    "k\n",
    "\n",
    "# This is the survival ratio in particular bins."
   ]
  },
  {
   "cell_type": "markdown",
   "metadata": {},
   "source": [
    "###### This following step is to replace the weights for ages based on bins"
   ]
  },
  {
   "cell_type": "code",
   "execution_count": 52,
   "metadata": {
    "collapsed": true,
    "scrolled": true
   },
   "outputs": [],
   "source": [
    "titanic_hf = titanic.sort_values(by = 'Bins')\n",
    "ages = [4,14,24,34,44,54,64,74]\n",
    "titanic_hf['Age_group'] = [titanic.groupby('Bins').Survived.value_counts()[i].sum() for i in titanic_hf.Age]"
   ]
  },
  {
   "cell_type": "code",
   "execution_count": 53,
   "metadata": {},
   "outputs": [
    {
     "data": {
      "text/plain": [
       "array([ 83, 135, 279, 203, 115,  48,  21,   7], dtype=int64)"
      ]
     },
     "execution_count": 53,
     "metadata": {},
     "output_type": "execute_result"
    }
   ],
   "source": [
    "titanic_hf.Age_group.unique()"
   ]
  },
  {
   "cell_type": "markdown",
   "metadata": {},
   "source": [
    "###### Feature Scaling"
   ]
  },
  {
   "cell_type": "code",
   "execution_count": 54,
   "metadata": {
    "collapsed": true
   },
   "outputs": [],
   "source": [
    "titanic_hf.Age_group.replace(titanic_hf.Age_group.unique(),k,inplace = True)\n",
    "titanic_hf['Embarked'] = titanic.Embarked/20\n",
    "titanic_hf['Age_group'] = titanic_hf.Age_group*10\n",
    "titanic_hf.drop(['Age','Bins'],axis = 1,inplace = True)"
   ]
  },
  {
   "cell_type": "markdown",
   "metadata": {},
   "source": [
    "** Resorting values again based on PassengerID**"
   ]
  },
  {
   "cell_type": "code",
   "execution_count": 55,
   "metadata": {
    "collapsed": true
   },
   "outputs": [],
   "source": [
    "titanic_hf.sort_values('PassengerId',inplace = True)\n",
    "#titanic_hf['Pclass'].replace([2,3],[3,5],inplace = True)\n",
    "titanic_hf['hypothesis'] = titanic_hf.Pclass*titanic_hf.Sex*titanic_hf.Embarked*titanic_hf.Family*titanic_hf.Age_group\n",
    "#titanic_hf"
   ]
  },
  {
   "cell_type": "code",
   "execution_count": 56,
   "metadata": {},
   "outputs": [
    {
     "data": {
      "text/plain": [
       "889"
      ]
     },
     "execution_count": 56,
     "metadata": {},
     "output_type": "execute_result"
    }
   ],
   "source": [
    "titanic_hf.dropna(inplace = True)\n",
    "len(titanic_hf)"
   ]
  },
  {
   "cell_type": "code",
   "execution_count": 57,
   "metadata": {
    "collapsed": true
   },
   "outputs": [],
   "source": [
    "titanic_hf.hypothesis = titanic_hf.hypothesis.astype(int,inplace = True)\n",
    "titanic_hf.to_csv('cross_check.csv')"
   ]
  },
  {
   "cell_type": "markdown",
   "metadata": {},
   "source": [
    "#### Predicting Process."
   ]
  },
  {
   "cell_type": "code",
   "execution_count": 58,
   "metadata": {
    "collapsed": true
   },
   "outputs": [],
   "source": [
    "from sklearn.tree import DecisionTreeClassifier as dtc\n",
    "from sklearn.model_selection import train_test_split as tts\n",
    "from sklearn.model_selection import KFold"
   ]
  },
  {
   "cell_type": "code",
   "execution_count": 59,
   "metadata": {},
   "outputs": [],
   "source": [
    "from sklearn import cross_validation\n",
    "X_train,X_test,y_train,y_test = tts(titanic_hf.hypothesis,titanic_hf.Survived,random_state = 5)\n",
    "#cv = cross_validation.KFold(len(X_train),n_folds = 10)\n",
    "#cross_validation.cross_val_score(dtc(),titanic_hf.hypothesis,titanic_hf.Survived,cv = 10)\n",
    "#X_train.shape,X_test.shape,y_train.shape,y_test.shape"
   ]
  },
  {
   "cell_type": "markdown",
   "metadata": {},
   "source": [
    "###### Prediction through decision tree and its accuracy score on the cross validated set"
   ]
  },
  {
   "cell_type": "code",
   "execution_count": 60,
   "metadata": {
    "scrolled": true
   },
   "outputs": [
    {
     "data": {
      "text/plain": [
       "0.82959641255605376"
      ]
     },
     "execution_count": 60,
     "metadata": {},
     "output_type": "execute_result"
    }
   ],
   "source": [
    "dt = dtc(random_state = 0,max_depth=None)\n",
    "dt.fit(X_train.reshape(666,1),y_train.reshape(666,1))\n",
    "\n",
    "dt.predict(X_test.reshape(223,1))\n",
    "\n",
    "from sklearn.metrics import accuracy_score\n",
    "\n",
    "accuracy_score(dt.predict(X_test.reshape(223,1)),y_test)"
   ]
  },
  {
   "cell_type": "markdown",
   "metadata": {},
   "source": [
    "###### Prediction through random forest and its accuracy score on the cross validated set"
   ]
  },
  {
   "cell_type": "code",
   "execution_count": 61,
   "metadata": {
    "collapsed": true
   },
   "outputs": [],
   "source": [
    "from sklearn.ensemble import RandomForestClassifier as RF"
   ]
  },
  {
   "cell_type": "code",
   "execution_count": 62,
   "metadata": {},
   "outputs": [
    {
     "data": {
      "text/plain": [
       "0.83856502242152464"
      ]
     },
     "execution_count": 62,
     "metadata": {},
     "output_type": "execute_result"
    }
   ],
   "source": [
    "rf = RF()\n",
    "rf.fit(X_train.reshape(666,1),y_train.reshape(666,1))\n",
    "\n",
    "\n",
    "y_pred = rf.predict(X_test.reshape(223,1))\n",
    "\n",
    "accuracy_score(y_pred,y_test)"
   ]
  },
  {
   "cell_type": "markdown",
   "metadata": {},
   "source": [
    "###### Prediction through Logistic regression and its accuracy score on the cross validated set"
   ]
  },
  {
   "cell_type": "code",
   "execution_count": 63,
   "metadata": {
    "scrolled": true
   },
   "outputs": [
    {
     "data": {
      "text/plain": [
       "0.7982062780269058"
      ]
     },
     "execution_count": 63,
     "metadata": {},
     "output_type": "execute_result"
    }
   ],
   "source": [
    "from sklearn.linear_model import LogisticRegression as LR\n",
    "lr = LR()\n",
    "lr.fit(X_train.reshape(666,1),y_train.reshape(666,1))\n",
    "accuracy_score(lr.predict(X_test.reshape(223,1)),y_test)"
   ]
  },
  {
   "cell_type": "markdown",
   "metadata": {},
   "source": [
    "###### Prediction through Support vector machine and its accuracy score on the cross validated set"
   ]
  },
  {
   "cell_type": "code",
   "execution_count": 64,
   "metadata": {
    "scrolled": true
   },
   "outputs": [
    {
     "data": {
      "text/plain": [
       "0.84753363228699552"
      ]
     },
     "execution_count": 64,
     "metadata": {},
     "output_type": "execute_result"
    }
   ],
   "source": [
    "from sklearn.svm import SVC\n",
    "svc = SVC()\n",
    "svc.fit(X_train.reshape(666,1),y_train.reshape(666,1))\n",
    "accuracy_score(svc.predict(X_test.reshape(223,1)),y_test)"
   ]
  },
  {
   "cell_type": "markdown",
   "metadata": {},
   "source": [
    "###### Because we modified our train set already we are just replicating steps here on test set"
   ]
  },
  {
   "cell_type": "code",
   "execution_count": 65,
   "metadata": {
    "collapsed": true,
    "scrolled": true
   },
   "outputs": [],
   "source": [
    "test = pd.read_csv('test.csv')\n",
    "test.replace(['S','Q','C'],[50,63,77],inplace = True)\n",
    "test.loc[:,['SibSp','Parch']]\n",
    "test['Family'] = [1 if (test.SibSp[i] == 0 & test.Parch[i] == 0) else 2.4 for i in range(len(test.PassengerId))]\n",
    "test.drop(['Name','SibSp','Parch','Ticket','Fare','Cabin'],axis = 1,inplace = True)\n",
    "test['Pclass'] = 4 - test.Pclass\n",
    "test['Sex'] = [1 if test.Sex[i] == 'male' else 4 for i in range(len(test['PassengerId']))]\n",
    "test.Age.fillna(method = 'ffill',inplace = True)\n",
    "test['Bins'] = (pd.cut(test.Age,8,retbins = True)[0])\n",
    "vals = test.Bins.unique()\n",
    "\n",
    "\n",
    "## This step is a bit different to that performed on the train set\n",
    "\n",
    "lst = zip(k,vals)\n",
    "keys = dict(zip(k,vals))\n",
    "keys_r = {y:x for x,y in keys.items()}\n",
    "age_weight = []\n",
    "for j in range(len(test.Age)):\n",
    "    for i in keys_r.keys():\n",
    "        if test.Age[j] in i:\n",
    "            age_weight.append(keys_r[i])\n",
    "        else:    \n",
    "            continue            \n",
    "test['Age_group'] = pd.Series(age_weight)\n",
    "test['Embarked'] = titanic.Embarked/20\n",
    "test['Age_group'] = test.Age_group*10\n",
    "test.drop(['Age','Bins'],axis = 1,inplace = True)\n",
    "test.sort_values('PassengerId',inplace = True)\n",
    "#test['Pclass'].replace([2,3],[3,5],inplace = True)\n",
    "test.Embarked.fillna(9.5,inplace = True)\n",
    "test['hypothesis'] = test.Pclass*test.Sex*test.Embarked*test.Family*test.Age_group"
   ]
  },
  {
   "cell_type": "markdown",
   "metadata": {},
   "source": [
    "###### We are here just adding our predictions to the csv file to submit in kaggle\n",
    "\n",
    "- Though on cross validated set SVC,Decision tree and random forests fared better it is logistic regression that gave highest accuracy on our test set."
   ]
  },
  {
   "cell_type": "code",
   "execution_count": 66,
   "metadata": {
    "scrolled": true
   },
   "outputs": [],
   "source": [
    "test.hypothesis = test.hypothesis.astype(int,inplace = True)\n",
    "y_pred = dt.predict(test.hypothesis.reshape(418,1))\n",
    "test['Survived'] = pd.Series(y_pred)\n",
    "\n",
    "sub = test[['PassengerId','Survived']]\n",
    "#sub.dropna(inplace = True)\n",
    "test.to_csv('submission2.csv',index = None)"
   ]
  },
  {
   "cell_type": "code",
   "execution_count": 67,
   "metadata": {},
   "outputs": [],
   "source": [
    "y_pred = rf.predict(test.hypothesis.reshape(418,1))\n",
    "test['Survived'] = pd.Series(y_pred)\n",
    "\n",
    "sub = test[['PassengerId','Survived']]\n",
    "#sub.dropna(inplace = True)\n",
    "sub.to_csv('submission2_rf.csv',index = None)"
   ]
  },
  {
   "cell_type": "code",
   "execution_count": 68,
   "metadata": {},
   "outputs": [],
   "source": [
    "y_pred = lr.predict(test.hypothesis.reshape(418,1))\n",
    "test['Survived'] = pd.Series(y_pred)\n",
    "\n",
    "sub = test[['PassengerId','Survived']]\n",
    "sub.to_csv('submission2_lr.csv',index = None)"
   ]
  },
  {
   "cell_type": "code",
   "execution_count": 69,
   "metadata": {
    "scrolled": true
   },
   "outputs": [],
   "source": [
    "y_pred = svc.predict(test.hypothesis.reshape(418,1))\n",
    "test['Survived'] = pd.Series(y_pred)\n",
    "sub = test[['PassengerId','Survived']]\n",
    "sub.to_csv('submission2_svc.csv',index = None)"
   ]
  },
  {
   "cell_type": "code",
   "execution_count": 70,
   "metadata": {},
   "outputs": [],
   "source": [
    "titan = titanic_hf.copy()\n",
    "y_pred = lr.predict(titan.hypothesis.reshape(889,1))\n",
    "titan['Survived_pred'] = pd.Series(y_pred)"
   ]
  },
  {
   "cell_type": "markdown",
   "metadata": {},
   "source": [
    "###### Further more exploring the data so as to discover any normal method that can be used to predict using score we got"
   ]
  },
  {
   "cell_type": "code",
   "execution_count": 71,
   "metadata": {},
   "outputs": [
    {
     "data": {
      "text/plain": [
       "[<matplotlib.lines.Line2D at 0x2324c590748>]"
      ]
     },
     "execution_count": 71,
     "metadata": {},
     "output_type": "execute_result"
    },
    {
     "data": {
      "image/png": "[encoded data removed]",
      "text/plain": [
       "<matplotlib.figure.Figure at 0x2324c5ac278>"
      ]
     },
     "metadata": {},
     "output_type": "display_data"
    }
   ],
   "source": [
    "plt.figure(1,figsize = (15,10))\n",
    "plt.subplot(211)\n",
    "plt.plot(titan.PassengerId,titan.Survived.cumsum())\n",
    "plt.subplot(211)\n",
    "plt.plot(titan.PassengerId,titan.Survived_pred.cumsum())"
   ]
  },
  {
   "cell_type": "code",
   "execution_count": 72,
   "metadata": {
    "scrolled": false
   },
   "outputs": [
    {
     "data": {
      "text/plain": [
       "0    404\n",
       "1     79\n",
       "Name: Survived, dtype: int64"
      ]
     },
     "execution_count": 72,
     "metadata": {},
     "output_type": "execute_result"
    }
   ],
   "source": [
    "titan[titan.hypothesis < 60].Survived.value_counts()"
   ]
  },
  {
   "cell_type": "code",
   "execution_count": 73,
   "metadata": {
    "collapsed": true
   },
   "outputs": [],
   "source": [
    "demo = []\n",
    "for i in range(len(test)):\n",
    "    if test.hypothesis[i]<61:\n",
    "        demo.append(0)\n",
    "    elif test.hypothesis[i]>60:\n",
    "        demo.append(1)"
   ]
  },
  {
   "cell_type": "code",
   "execution_count": 74,
   "metadata": {
    "collapsed": true
   },
   "outputs": [],
   "source": [
    "sub = pd.DataFrame(test.PassengerId)\n",
    "sub['Survived'] = demo\n",
    "sub.to_csv('submission_final.csv',index = None)"
   ]
  },
  {
   "cell_type": "markdown",
   "metadata": {},
   "source": [
    "###### well,it is shocking that even a trivial method like this gave an prediction accuracy of 68."
   ]
  }
 ],
 "metadata": {
  "kernelspec": {
   "display_name": "Python 3",
   "language": "python",
   "name": "python3"
  },
  "language_info": {
   "codemirror_mode": {
    "name": "ipython",
    "version": 3
   },
   "file_extension": ".py",
   "mimetype": "text/x-python",
   "name": "python",
   "nbconvert_exporter": "python",
   "pygments_lexer": "ipython3",
   "version": "3.6.1"
  }
 },
 "nbformat": 4,
 "nbformat_minor": 2
}
